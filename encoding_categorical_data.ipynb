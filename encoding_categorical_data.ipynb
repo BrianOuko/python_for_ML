{
  "nbformat": 4,
  "nbformat_minor": 0,
  "metadata": {
    "colab": {
      "provenance": [],
      "authorship_tag": "ABX9TyP3W3GA939Li0OzvyqHqalT",
      "include_colab_link": true
    },
    "kernelspec": {
      "name": "python3",
      "display_name": "Python 3"
    },
    "language_info": {
      "name": "python"
    }
  },
  "cells": [
    {
      "cell_type": "markdown",
      "metadata": {
        "id": "view-in-github",
        "colab_type": "text"
      },
      "source": [
        "<a href=\"https://colab.research.google.com/github/BrianOuko/python_for_ML/blob/Encoding_categorical_data/encoding_categorical_data.ipynb\" target=\"_parent\"><img src=\"https://colab.research.google.com/assets/colab-badge.svg\" alt=\"Open In Colab\"/></a>"
      ]
    },
    {
      "cell_type": "markdown",
      "source": [
        "## Encoding Categorical Data for ML Algorithms"
      ],
      "metadata": {
        "id": "cfGHP2W7PTy1"
      }
    },
    {
      "cell_type": "markdown",
      "source": [
        "The following exercise explored some of the methods to employ to achieve categorical data encoding so that it is usable by ML algos.\n",
        "Encoding helps us use categorical data as features for our ML models.\n",
        "So what is categorical data?\n",
        "\n",
        "Categorical data is data that contains text as labels rather than\n",
        "numerals than numeric data would do. Converting the data that contains categorical variables to numbers before we can train an ML models is called encoding.\n",
        "\n",
        "\n",
        "1. Label Encoding: Assigns a unique integer to each category.\n",
        "Suitable for ordinal data where there is a meaningful order among the categories. Example: Encoding \"low,\" \"medium,\" and \"high\" as 0, 1, and 2.\n",
        "\n",
        "2. One-Hot Encoding: Creates binary columns for each category and represents the presence of a category with a 1 and its absence with a 0.\n",
        "Suitable for nominal data where there is no inherent order among the categories.Example: Encoding colors like \"red,\" \"green,\" and \"blue\" as [1, 0, 0], [0, 1, 0], and [0, 0, 1].\n",
        "\n",
        "3. Ordinal Encoding: Similar to label encoding, but the assigned integers represent the ordinal relationship between categories.\n",
        "Suitable for ordinal data where the order matters.\n",
        "Example: Encoding education levels like \"high school,\" \"college,\" and \"graduate\" as 1, 2, and 3.\n",
        "\n",
        "4. Binary Encoding: Represents each integer in its binary form and creates binary columns for each digit.\n",
        "Reduces dimensionality compared to one-hot encoding while preserving some information.\n",
        "Example: Encoding integers 0-7 as 000, 001, 010, 011, 100, 101, 110, 111.\n",
        "\n",
        "5. Frequency Encoding: Encodes categories based on their frequency in the dataset.\n",
        "Assigns a weight to each category based on its occurrence.\n",
        "Useful when the frequency of a category is informative.\n",
        "Example: Encoding categories based on their occurrence count in the dataset.\n",
        "\n",
        "6. Target Encoding (Mean Encoding):\n",
        "Uses the mean of the target variable for each category as the encoded value.Can improve the model's predictive performance in some cases.\n",
        "Should be used cautiously to avoid data leakage and overfitting.\n",
        "\n",
        "\n",
        "\n",
        "\n",
        "\n",
        "\n",
        "\n",
        "\n",
        "\n",
        "\n",
        "\n",
        "\n",
        "\n",
        "\n",
        "\n",
        "\n",
        "\n",
        "\n",
        "\n",
        "\n",
        "\n"
      ],
      "metadata": {
        "id": "JiZExRINPpms"
      }
    },
    {
      "cell_type": "code",
      "execution_count": null,
      "metadata": {
        "id": "qgwOdS0ZMHXd"
      },
      "outputs": [],
      "source": [
        "import numpy as np\n",
        "import pandas as pd\n",
        "from sklearn.preprocessing import OrdinalEncoder"
      ]
    },
    {
      "cell_type": "markdown",
      "source": [
        "**Define the Data**"
      ],
      "metadata": {
        "id": "78l71LclMe5x"
      }
    },
    {
      "cell_type": "code",
      "source": [
        "data = np.array ([['good'],['very good'], ['excellent']])\n",
        "df = pd.DataFrame(data, columns=[\"Rating\"], index=[\"Rater 1\", \"Rater 2\", \"Rater 3\"])\n",
        "print(\"Data before encoding:\")\n",
        "print(df)\n"
      ],
      "metadata": {
        "colab": {
          "base_uri": "https://localhost:8080/"
        },
        "id": "WnA5wFwdMiOx",
        "outputId": "ab5315c6-deb8-4307-d70f-1ba20d4b3c73"
      },
      "execution_count": 24,
      "outputs": [
        {
          "output_type": "stream",
          "name": "stdout",
          "text": [
            "Data before encoding:\n",
            "            Rating\n",
            "Rater 1       good\n",
            "Rater 2  very good\n",
            "Rater 3  excellent\n"
          ]
        }
      ]
    },
    {
      "cell_type": "markdown",
      "source": [
        "**Define ordinal encoding**"
      ],
      "metadata": {
        "id": "GHM0Qi3cNbxh"
      }
    },
    {
      "cell_type": "code",
      "source": [
        "encoder=OrdinalEncoder()\n",
        "#here we could alternatively define categories and define the encoder as encoder=OrdinalEncoder(categories=categories)\n"
      ],
      "metadata": {
        "id": "YuIu-LV-NizX"
      },
      "execution_count": 25,
      "outputs": []
    },
    {
      "cell_type": "code",
      "source": [
        "categories = [['good','very good','excellent']]\n",
        "encoder = OrdinalEncoder (categories=categories)"
      ],
      "metadata": {
        "id": "0gq8ainCZSQw"
      },
      "execution_count": 26,
      "outputs": []
    },
    {
      "cell_type": "markdown",
      "source": [
        "**Transform data** This line of code is fitting the OrdinalEncoder to the \"Rating\" column of the DataFrame df and simultaneously transforming the original categorical values into numerical representations."
      ],
      "metadata": {
        "id": "2gOJXjDDNsGN"
      }
    },
    {
      "cell_type": "code",
      "source": [
        "df[\"Encoded Rating\"] = encoder.fit_transform(df)\n",
        "print(\"\\nData after encoding:\")\n",
        "print(df)"
      ],
      "metadata": {
        "colab": {
          "base_uri": "https://localhost:8080/"
        },
        "id": "FdeYSZqaWrH8",
        "outputId": "5e35c8a3-998a-4bb9-f47a-b67ebfc69c70"
      },
      "execution_count": 27,
      "outputs": [
        {
          "output_type": "stream",
          "name": "stdout",
          "text": [
            "\n",
            "Data after encoding:\n",
            "            Rating  Encoded Rating\n",
            "Rater 1       good             0.0\n",
            "Rater 2  very good             1.0\n",
            "Rater 3  excellent             2.0\n"
          ]
        }
      ]
    },
    {
      "cell_type": "markdown",
      "source": [
        "**The OneHot encoding class is found in the scikit-learn library. The following is an example of its use.**"
      ],
      "metadata": {
        "id": "aahUHKqRX4UM"
      }
    },
    {
      "cell_type": "code",
      "source": [
        "from sklearn.preprocessing import OneHotEncoder\n",
        "\n",
        "#we then define the data\n",
        "\n",
        "data=np.array ([['Miami'],['Sydney'],['New York']])\n",
        "df=pd.DataFrame(data, columns = [\"City\"], index= [\"Alex\", \"Joe\", \"Alice\"])\n",
        "print(\"Data before encodin:\")\n",
        "print(df)\n",
        "\n",
        "#define the OneHot encoding\n",
        "categories=[['Miami'], ['sydney'],['New York']]\n",
        "encoder= OneHotEncoder(categories='auto', sparse=False)\n",
        "\n",
        "#transforming the data\n",
        "encoded_data=encoder.fit_transform(df)\n",
        "\n",
        "#employing the fit_transform method to return an array that is then converted to a pd df\n",
        "df_encoded = pd.DataFrame(encoded_data, columns=encoder.get_feature_names_out(['City']), index=df.index)\n",
        "print(\"\\nData before encodin: \")\n",
        "print(df_encoded)\n"
      ],
      "metadata": {
        "colab": {
          "base_uri": "https://localhost:8080/"
        },
        "id": "1JBkCWu7YFCa",
        "outputId": "bc57a877-ba19-483d-a4f4-39d106406012"
      },
      "execution_count": 28,
      "outputs": [
        {
          "output_type": "stream",
          "name": "stdout",
          "text": [
            "Data before encodin:\n",
            "           City\n",
            "Alex      Miami\n",
            "Joe      Sydney\n",
            "Alice  New York\n",
            "\n",
            "Data before encodin: \n",
            "       City_Miami  City_New York  City_Sydney\n",
            "Alex          1.0            0.0          0.0\n",
            "Joe           0.0            0.0          1.0\n",
            "Alice         0.0            1.0          0.0\n"
          ]
        },
        {
          "output_type": "stream",
          "name": "stderr",
          "text": [
            "/usr/local/lib/python3.10/dist-packages/sklearn/preprocessing/_encoders.py:868: FutureWarning: `sparse` was renamed to `sparse_output` in version 1.2 and will be removed in 1.4. `sparse_output` is ignored unless you leave `sparse` to its default value.\n",
            "  warnings.warn(\n"
          ]
        }
      ]
    },
    {
      "cell_type": "markdown",
      "source": [
        "**Target encoding** on the other hand encodes the mean of the frequency of occurrence of a particular target.\n",
        "\n"
      ],
      "metadata": {
        "id": "CvqB8VOCk6V2"
      }
    },
    {
      "cell_type": "code",
      "source": [
        "!pip install category_encoders\n",
        "from category_encoders import TargetEncoder\n",
        "\n",
        "#defining our data\n",
        "fruit= ['Apple','Banana','Banana','Tomato','Apple', 'Tomato', 'Apple', 'Banana', 'Tomato', 'Tomato']\n",
        "target= [1,0,0,0,1,1,0,1,0,0]\n",
        "df=pd.DataFrame (list(zip(fruit,target)), columns = [\"Fruit\", \"Target\"])\n",
        "#the line above could be replaced wit ~df = pd.DataFrame({\"Fruit\": fruit, \"Target\": target}) (using dcitionary and zip to create list pairs as a table)\n",
        "\n",
        "print(\"\\nData before encodin:\")\n",
        "print(df)\n",
        "\n",
        "#how we then encode the data\n",
        "\n",
        "encoder= TargetEncoder(smoothing=0.01)\n",
        "\n",
        "#smoothing helps reduce risk of overfitting and improv. generalisation performance\n",
        "#smoothing with a value>0 introduces a form of regularization by blending the mean of the target variable for each category with the OVR mean\n",
        "#its especially helpful for small datasets\n",
        "\n",
        "#transform the data\n",
        "df[\"Fruit Encoded\"]=encoder.fit_transform(df[\"Fruit\"], df[\"Target\"])\n",
        "print(df)\n",
        "\n",
        "\n",
        "# Print category means during encoding\n",
        "encoder = TargetEncoder(smoothing=0.1)\n",
        "category_means = encoder.fit(df[\"Fruit\"], df[\"Target\"]).transform(df[\"Fruit\"])\n",
        "print(\"Category Means:\")\n",
        "print(category_means)\n"
      ],
      "metadata": {
        "colab": {
          "base_uri": "https://localhost:8080/"
        },
        "id": "YIAXhNF6l4Zi",
        "outputId": "3832bdf1-38d8-48dd-f21d-009cf79f4f83"
      },
      "execution_count": 31,
      "outputs": [
        {
          "output_type": "stream",
          "name": "stdout",
          "text": [
            "Requirement already satisfied: category_encoders in /usr/local/lib/python3.10/dist-packages (2.6.3)\n",
            "Requirement already satisfied: numpy>=1.14.0 in /usr/local/lib/python3.10/dist-packages (from category_encoders) (1.23.5)\n",
            "Requirement already satisfied: scikit-learn>=0.20.0 in /usr/local/lib/python3.10/dist-packages (from category_encoders) (1.2.2)\n",
            "Requirement already satisfied: scipy>=1.0.0 in /usr/local/lib/python3.10/dist-packages (from category_encoders) (1.11.3)\n",
            "Requirement already satisfied: statsmodels>=0.9.0 in /usr/local/lib/python3.10/dist-packages (from category_encoders) (0.14.0)\n",
            "Requirement already satisfied: pandas>=1.0.5 in /usr/local/lib/python3.10/dist-packages (from category_encoders) (1.5.3)\n",
            "Requirement already satisfied: patsy>=0.5.1 in /usr/local/lib/python3.10/dist-packages (from category_encoders) (0.5.3)\n",
            "Requirement already satisfied: python-dateutil>=2.8.1 in /usr/local/lib/python3.10/dist-packages (from pandas>=1.0.5->category_encoders) (2.8.2)\n",
            "Requirement already satisfied: pytz>=2020.1 in /usr/local/lib/python3.10/dist-packages (from pandas>=1.0.5->category_encoders) (2023.3.post1)\n",
            "Requirement already satisfied: six in /usr/local/lib/python3.10/dist-packages (from patsy>=0.5.1->category_encoders) (1.16.0)\n",
            "Requirement already satisfied: joblib>=1.1.1 in /usr/local/lib/python3.10/dist-packages (from scikit-learn>=0.20.0->category_encoders) (1.3.2)\n",
            "Requirement already satisfied: threadpoolctl>=2.0.0 in /usr/local/lib/python3.10/dist-packages (from scikit-learn>=0.20.0->category_encoders) (3.2.0)\n",
            "Requirement already satisfied: packaging>=21.3 in /usr/local/lib/python3.10/dist-packages (from statsmodels>=0.9.0->category_encoders) (23.2)\n",
            "\n",
            "Data before encodin:\n",
            "    Fruit  Target\n",
            "0   Apple       1\n",
            "1  Banana       0\n",
            "2  Banana       0\n",
            "3  Tomato       0\n",
            "4   Apple       1\n",
            "5  Tomato       1\n",
            "6   Apple       0\n",
            "7  Banana       1\n",
            "8  Tomato       0\n",
            "9  Tomato       0\n",
            "    Fruit  Target  Fruit Encoded\n",
            "0   Apple       1            0.4\n",
            "1  Banana       0            0.4\n",
            "2  Banana       0            0.4\n",
            "3  Tomato       0            0.4\n",
            "4   Apple       1            0.4\n",
            "5  Tomato       1            0.4\n",
            "6   Apple       0            0.4\n",
            "7  Banana       1            0.4\n",
            "8  Tomato       0            0.4\n",
            "9  Tomato       0            0.4\n",
            "Category Means:\n",
            "   Fruit\n",
            "0    0.4\n",
            "1    0.4\n",
            "2    0.4\n",
            "3    0.4\n",
            "4    0.4\n",
            "5    0.4\n",
            "6    0.4\n",
            "7    0.4\n",
            "8    0.4\n",
            "9    0.4\n"
          ]
        }
      ]
    }
  ]
}